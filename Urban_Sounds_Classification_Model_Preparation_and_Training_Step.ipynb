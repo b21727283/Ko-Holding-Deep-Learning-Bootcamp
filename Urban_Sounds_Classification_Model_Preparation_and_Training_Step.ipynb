{
  "nbformat": 4,
  "nbformat_minor": 0,
  "metadata": {
    "colab": {
      "provenance": [],
      "collapsed_sections": [],
      "include_colab_link": true
    },
    "kernelspec": {
      "name": "python3",
      "display_name": "Python 3"
    },
    "language_info": {
      "name": "python"
    }
  },
  "cells": [
    {
      "cell_type": "markdown",
      "metadata": {
        "id": "view-in-github",
        "colab_type": "text"
      },
      "source": [
        "<a href=\"https://colab.research.google.com/github/b21727283/Koc-Holding-Deep-Learning-Bootcamp/blob/main/Urban_Sounds_Classification_Model_Preparation_and_Training_Step.ipynb\" target=\"_parent\"><img src=\"https://colab.research.google.com/assets/colab-badge.svg\" alt=\"Open In Colab\"/></a>"
      ]
    },
    {
      "cell_type": "markdown",
      "source": [
        "# Urban Sounds Classification\n",
        "## Model Preparation, Training and Evaluation Step"
      ],
      "metadata": {
        "id": "cr6pqb33-XVi"
      }
    },
    {
      "cell_type": "code",
      "source": [
        "# Creating a model object\n",
        "model = tf.keras.Sequential()"
      ],
      "metadata": {
        "id": "1CGb8yn3-dEH"
      },
      "execution_count": null,
      "outputs": []
    },
    {
      "cell_type": "code",
      "source": [
        "# Adding a convolution and max pooling layer\n",
        "model.add(tf.keras.layers.Conv2D(32, \n",
        "                                 kernel_size=(3,3),\n",
        "                                 strides=(1,1),\n",
        "                                 padding=\"same\",\n",
        "                                 activation=\"relu\",\n",
        "                                 input_shape=(128,128,1)))\n",
        "\n",
        "model.add(tf.keras.layers.MaxPooling2D((2,2)))"
      ],
      "metadata": {
        "id": "ftQkiF1o-c9s"
      },
      "execution_count": null,
      "outputs": []
    },
    {
      "cell_type": "code",
      "source": [
        "# Adding more convolution and max pooling layers\n",
        "model.add(tf.keras.layers.Conv2D(64, \n",
        "                                 kernel_size=(3,3),\n",
        "                                 strides=(1,1),\n",
        "                                 padding=\"same\",\n",
        "                                 activation=\"relu\",\n",
        "                                ))\n",
        "\n",
        "model.add(tf.keras.layers.MaxPooling2D((2,2)))\n",
        "\n",
        "model.add(tf.keras.layers.Conv2D(64, \n",
        "                                 kernel_size=(3,3),\n",
        "                                 strides=(1,1),\n",
        "                                 padding=\"same\",\n",
        "                                 activation=\"relu\",\n",
        "                                ))"
      ],
      "metadata": {
        "id": "q3LXxMwG-c6j"
      },
      "execution_count": null,
      "outputs": []
    },
    {
      "cell_type": "code",
      "source": [
        "# Flattening the convolution layer\n",
        "model.add(tf.keras.layers.Flatten())"
      ],
      "metadata": {
        "id": "NhxeiI70-c3c"
      },
      "execution_count": null,
      "outputs": []
    },
    {
      "cell_type": "code",
      "source": [
        "# Adding the dense layer and dropout layer\n",
        "model.add(tf.keras.layers.Dense(64, activation=\"relu\"))\n",
        "model.add(tf.keras.layers.Dropout(0.5))\n",
        "\n",
        "# Adding the dense layer and dropout layer\n",
        "model.add(tf.keras.layers.Dense(64,activation=\"relu\"))\n",
        "model.add(tf.keras.layers.Dropout(0.5))"
      ],
      "metadata": {
        "id": "T8K8WeWb-c0D"
      },
      "execution_count": null,
      "outputs": []
    },
    {
      "cell_type": "code",
      "source": [
        "# Adding the output layer\n",
        "model.add(tf.keras.layers.Dense(10, activation=\"softmax\"))"
      ],
      "metadata": {
        "id": "-X4CoNUq-cwb"
      },
      "execution_count": null,
      "outputs": []
    },
    {
      "cell_type": "code",
      "source": [
        "# Compiling the model\n",
        "model.compile(optimizer=\"adam\",\n",
        "              loss=\"sparse_categorical_crossentropy\",\n",
        "              metrics=[\"accuracy\"])"
      ],
      "metadata": {
        "id": "uPKHxiCo-ctb"
      },
      "execution_count": null,
      "outputs": []
    },
    {
      "cell_type": "code",
      "source": [
        "# Train the model for 50 epochs with batch size of 128\n",
        "results = model.fit(X_train, y_train,\n",
        "                    batch_size=64,\n",
        "                    epochs=50,\n",
        "                    validation_data=(X_val, y_val))"
      ],
      "metadata": {
        "colab": {
          "base_uri": "https://localhost:8080/"
        },
        "id": "ulhhgp65rDm3",
        "outputId": "593d6ea9-7555-4682-ed7e-f3e3695defcd"
      },
      "execution_count": null,
      "outputs": [
        {
          "output_type": "stream",
          "name": "stdout",
          "text": [
            "Epoch 1/50\n",
            "110/110 [==============================] - 16s 38ms/step - loss: 2.0884 - accuracy: 0.2203 - val_loss: 1.6516 - val_accuracy: 0.4570\n",
            "Epoch 2/50\n",
            "110/110 [==============================] - 4s 33ms/step - loss: 1.7521 - accuracy: 0.3618 - val_loss: 1.2538 - val_accuracy: 0.5762\n",
            "Epoch 3/50\n",
            "110/110 [==============================] - 4s 34ms/step - loss: 1.4839 - accuracy: 0.4606 - val_loss: 1.1812 - val_accuracy: 0.6277\n",
            "Epoch 4/50\n",
            "110/110 [==============================] - 4s 33ms/step - loss: 1.2969 - accuracy: 0.5294 - val_loss: 0.9884 - val_accuracy: 0.6861\n",
            "Epoch 5/50\n",
            "110/110 [==============================] - 4s 33ms/step - loss: 1.1531 - accuracy: 0.5808 - val_loss: 0.8591 - val_accuracy: 0.7274\n",
            "Epoch 6/50\n",
            "110/110 [==============================] - 4s 33ms/step - loss: 0.9974 - accuracy: 0.6492 - val_loss: 0.7743 - val_accuracy: 0.7652\n",
            "Epoch 7/50\n",
            "110/110 [==============================] - 4s 33ms/step - loss: 0.9444 - accuracy: 0.6850 - val_loss: 0.6978 - val_accuracy: 0.8087\n",
            "Epoch 8/50\n",
            "110/110 [==============================] - 4s 33ms/step - loss: 0.8205 - accuracy: 0.7291 - val_loss: 0.7373 - val_accuracy: 0.7961\n",
            "Epoch 9/50\n",
            "110/110 [==============================] - 4s 33ms/step - loss: 0.7581 - accuracy: 0.7462 - val_loss: 0.6878 - val_accuracy: 0.8053\n",
            "Epoch 10/50\n",
            "110/110 [==============================] - 4s 34ms/step - loss: 0.7258 - accuracy: 0.7559 - val_loss: 0.6311 - val_accuracy: 0.8236\n",
            "Epoch 11/50\n",
            "110/110 [==============================] - 4s 33ms/step - loss: 0.6542 - accuracy: 0.7785 - val_loss: 0.5746 - val_accuracy: 0.8339\n",
            "Epoch 12/50\n",
            "110/110 [==============================] - 4s 34ms/step - loss: 0.6157 - accuracy: 0.7875 - val_loss: 0.5751 - val_accuracy: 0.8396\n",
            "Epoch 13/50\n",
            "110/110 [==============================] - 4s 34ms/step - loss: 0.5832 - accuracy: 0.8047 - val_loss: 0.5354 - val_accuracy: 0.8511\n",
            "Epoch 14/50\n",
            "110/110 [==============================] - 4s 34ms/step - loss: 0.5763 - accuracy: 0.8054 - val_loss: 0.5554 - val_accuracy: 0.8477\n",
            "Epoch 15/50\n",
            "110/110 [==============================] - 4s 34ms/step - loss: 0.5201 - accuracy: 0.8203 - val_loss: 0.6574 - val_accuracy: 0.8373\n",
            "Epoch 16/50\n",
            "110/110 [==============================] - 4s 33ms/step - loss: 0.4992 - accuracy: 0.8326 - val_loss: 0.5858 - val_accuracy: 0.8465\n",
            "Epoch 17/50\n",
            "110/110 [==============================] - 4s 33ms/step - loss: 0.4908 - accuracy: 0.8328 - val_loss: 0.5429 - val_accuracy: 0.8614\n",
            "Epoch 18/50\n",
            "110/110 [==============================] - 4s 33ms/step - loss: 0.4816 - accuracy: 0.8346 - val_loss: 0.5789 - val_accuracy: 0.8545\n",
            "Epoch 19/50\n",
            "110/110 [==============================] - 4s 34ms/step - loss: 0.4483 - accuracy: 0.8431 - val_loss: 0.5848 - val_accuracy: 0.8488\n",
            "Epoch 20/50\n",
            "110/110 [==============================] - 4s 33ms/step - loss: 0.4131 - accuracy: 0.8577 - val_loss: 0.6090 - val_accuracy: 0.8648\n",
            "Epoch 21/50\n",
            "110/110 [==============================] - 4s 33ms/step - loss: 0.4291 - accuracy: 0.8538 - val_loss: 0.5341 - val_accuracy: 0.8717\n",
            "Epoch 22/50\n",
            "110/110 [==============================] - 4s 33ms/step - loss: 0.3967 - accuracy: 0.8659 - val_loss: 0.6127 - val_accuracy: 0.8671\n",
            "Epoch 23/50\n",
            "110/110 [==============================] - 4s 33ms/step - loss: 0.4144 - accuracy: 0.8580 - val_loss: 0.6362 - val_accuracy: 0.8614\n",
            "Epoch 24/50\n",
            "110/110 [==============================] - 4s 33ms/step - loss: 0.3820 - accuracy: 0.8681 - val_loss: 0.5664 - val_accuracy: 0.8740\n",
            "Epoch 25/50\n",
            "110/110 [==============================] - 4s 34ms/step - loss: 0.3965 - accuracy: 0.8669 - val_loss: 0.6142 - val_accuracy: 0.8660\n",
            "Epoch 26/50\n",
            "110/110 [==============================] - 4s 34ms/step - loss: 0.3697 - accuracy: 0.8734 - val_loss: 0.5998 - val_accuracy: 0.8683\n",
            "Epoch 27/50\n",
            "110/110 [==============================] - 4s 33ms/step - loss: 0.3759 - accuracy: 0.8719 - val_loss: 0.7158 - val_accuracy: 0.8580\n",
            "Epoch 28/50\n",
            "110/110 [==============================] - 4s 33ms/step - loss: 0.3846 - accuracy: 0.8702 - val_loss: 0.6338 - val_accuracy: 0.8614\n",
            "Epoch 29/50\n",
            "110/110 [==============================] - 4s 33ms/step - loss: 0.3715 - accuracy: 0.8743 - val_loss: 0.6483 - val_accuracy: 0.8625\n",
            "Epoch 30/50\n",
            "110/110 [==============================] - 4s 33ms/step - loss: 0.3868 - accuracy: 0.8704 - val_loss: 0.6595 - val_accuracy: 0.8580\n",
            "Epoch 31/50\n",
            "110/110 [==============================] - 4s 33ms/step - loss: 0.3545 - accuracy: 0.8805 - val_loss: 0.6512 - val_accuracy: 0.8683\n",
            "Epoch 32/50\n",
            "110/110 [==============================] - 4s 33ms/step - loss: 0.3482 - accuracy: 0.8826 - val_loss: 0.7144 - val_accuracy: 0.8660\n",
            "Epoch 33/50\n",
            "110/110 [==============================] - 4s 33ms/step - loss: 0.3525 - accuracy: 0.8776 - val_loss: 0.5866 - val_accuracy: 0.8729\n",
            "Epoch 34/50\n",
            "110/110 [==============================] - 4s 33ms/step - loss: 0.3487 - accuracy: 0.8820 - val_loss: 0.6051 - val_accuracy: 0.8751\n",
            "Epoch 35/50\n",
            "110/110 [==============================] - 4s 33ms/step - loss: 0.3543 - accuracy: 0.8832 - val_loss: 0.7513 - val_accuracy: 0.8637\n",
            "Epoch 36/50\n",
            "110/110 [==============================] - 4s 34ms/step - loss: 0.3549 - accuracy: 0.8839 - val_loss: 0.6158 - val_accuracy: 0.8648\n",
            "Epoch 37/50\n",
            "110/110 [==============================] - 4s 33ms/step - loss: 0.3185 - accuracy: 0.8921 - val_loss: 0.7141 - val_accuracy: 0.8648\n",
            "Epoch 38/50\n",
            "110/110 [==============================] - 4s 33ms/step - loss: 0.3142 - accuracy: 0.8921 - val_loss: 0.6321 - val_accuracy: 0.8671\n",
            "Epoch 39/50\n",
            "110/110 [==============================] - 4s 33ms/step - loss: 0.3350 - accuracy: 0.8845 - val_loss: 0.7666 - val_accuracy: 0.8534\n",
            "Epoch 40/50\n",
            "110/110 [==============================] - 4s 33ms/step - loss: 0.3153 - accuracy: 0.8958 - val_loss: 0.6123 - val_accuracy: 0.8603\n",
            "Epoch 41/50\n",
            "110/110 [==============================] - 4s 33ms/step - loss: 0.3179 - accuracy: 0.8976 - val_loss: 0.6003 - val_accuracy: 0.8557\n",
            "Epoch 42/50\n",
            "110/110 [==============================] - 4s 33ms/step - loss: 0.3009 - accuracy: 0.9018 - val_loss: 0.6217 - val_accuracy: 0.8717\n",
            "Epoch 43/50\n",
            "110/110 [==============================] - 4s 35ms/step - loss: 0.3139 - accuracy: 0.8962 - val_loss: 0.7065 - val_accuracy: 0.8557\n",
            "Epoch 44/50\n",
            "110/110 [==============================] - 4s 34ms/step - loss: 0.3166 - accuracy: 0.8916 - val_loss: 0.7060 - val_accuracy: 0.8534\n",
            "Epoch 45/50\n",
            "110/110 [==============================] - 4s 33ms/step - loss: 0.3264 - accuracy: 0.8969 - val_loss: 0.7174 - val_accuracy: 0.8660\n",
            "Epoch 46/50\n",
            "110/110 [==============================] - 4s 33ms/step - loss: 0.3145 - accuracy: 0.8976 - val_loss: 0.6190 - val_accuracy: 0.8740\n",
            "Epoch 47/50\n",
            "110/110 [==============================] - 4s 33ms/step - loss: 0.3027 - accuracy: 0.8972 - val_loss: 0.6197 - val_accuracy: 0.8671\n",
            "Epoch 48/50\n",
            "110/110 [==============================] - 4s 33ms/step - loss: 0.2896 - accuracy: 0.9047 - val_loss: 0.6978 - val_accuracy: 0.8729\n",
            "Epoch 49/50\n",
            "110/110 [==============================] - 4s 33ms/step - loss: 0.2977 - accuracy: 0.9025 - val_loss: 0.6316 - val_accuracy: 0.8591\n",
            "Epoch 50/50\n",
            "110/110 [==============================] - 4s 34ms/step - loss: 0.2890 - accuracy: 0.9028 - val_loss: 0.5901 - val_accuracy: 0.8740\n"
          ]
        }
      ]
    },
    {
      "cell_type": "code",
      "source": [
        "# Plot the the training loss\n",
        "plt.plot(results.history[\"loss\"], label=\"loss\")\n",
        "\n",
        "# Plot the the validation loss\n",
        "plt.plot(results.history[\"val_loss\"], label=\"val_loss\")\n",
        "\n",
        "# Name the x and y axises\n",
        "plt.xlabel(\"Epoch\")\n",
        "plt.ylabel(\"Loss\")\n",
        "\n",
        "# Put legend table\n",
        "plt.legend()\n",
        "\n",
        "# Show the plot\n",
        "plt.show()"
      ],
      "metadata": {
        "colab": {
          "base_uri": "https://localhost:8080/",
          "height": 279
        },
        "id": "GFlqmhf0sNNo",
        "outputId": "94f11458-a639-4e60-cad0-b32674bcd215"
      },
      "execution_count": null,
      "outputs": [
        {
          "output_type": "display_data",
          "data": {
            "text/plain": [
              "<Figure size 432x288 with 1 Axes>"
            ],
            "image/png": "[encoded data removed]"
          },
          "metadata": {
            "needs_background": "light"
          }
        }
      ]
    },
    {
      "cell_type": "code",
      "source": [
        "# Plot the the training accuracy\n",
        "plt.plot(results.history[\"accuracy\"], label=\"accuracy\")\n",
        "\n",
        "# Plot the the validation accuracy\n",
        "plt.plot(results.history[\"val_accuracy\"], label=\"val_accuracy\")\n",
        "\n",
        "# Name the x and y axises\n",
        "plt.xlabel(\"Epochs\")\n",
        "plt.ylabel(\"Accuracy\")\n",
        "\n",
        "# Put legend table\n",
        "plt.legend()\n",
        "\n",
        "# Show the plot\n",
        "plt.show()"
      ],
      "metadata": {
        "colab": {
          "base_uri": "https://localhost:8080/",
          "height": 279
        },
        "id": "_QBpQGsVsRhB",
        "outputId": "21d8e081-8985-4f22-9625-9309006cbf4e"
      },
      "execution_count": null,
      "outputs": [
        {
          "output_type": "display_data",
          "data": {
            "text/plain": [
              "<Figure size 432x288 with 1 Axes>"
            ],
            "image/png": "[encoded data removed]"
          },
          "metadata": {
            "needs_background": "light"
          }
        }
      ]
    },
    {
      "cell_type": "code",
      "source": [
        "# Evaluate the performance\n",
        "model.evaluate(X_test, y_test)"
      ],
      "metadata": {
        "colab": {
          "base_uri": "https://localhost:8080/"
        },
        "id": "LozG2kqBsZlh",
        "outputId": "6c831243-01bd-42fe-c761-6cf5456268fb"
      },
      "execution_count": null,
      "outputs": [
        {
          "output_type": "stream",
          "name": "stdout",
          "text": [
            "28/28 [==============================] - 1s 16ms/step - loss: 0.6352 - accuracy: 0.8753\n"
          ]
        },
        {
          "output_type": "execute_result",
          "data": {
            "text/plain": [
              "[0.6351702213287354, 0.8752860426902771]"
            ]
          },
          "metadata": {},
          "execution_count": 55
        }
      ]
    }
  ]
}